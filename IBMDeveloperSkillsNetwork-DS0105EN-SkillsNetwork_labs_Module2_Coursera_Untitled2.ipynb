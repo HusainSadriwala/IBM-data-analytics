{
  "metadata": {
    "language_info": {
      "codemirror_mode": {
        "name": "python",
        "version": 3
      },
      "file_extension": ".py",
      "mimetype": "text/x-python",
      "name": "python",
      "nbconvert_exporter": "python",
      "pygments_lexer": "ipython3",
      "version": "3.8"
    },
    "kernelspec": {
      "name": "python",
      "display_name": "Pyolite",
      "language": "python"
    }
  },
  "nbformat_minor": 4,
  "nbformat": 4,
  "cells": [
    {
      "cell_type": "markdown",
      "source": "<h1>My Jupyter Notebook on IBM Watson Studio </h1>",
      "metadata": {}
    },
    {
      "cell_type": "markdown",
      "source": "<b>Husain Sadriwala </b>\n<h6> My desired occuation is to be Data Scientist </h6>",
      "metadata": {}
    },
    {
      "cell_type": "markdown",
      "source": "<i> I am interseted in Data scince because as it is ever growing technology and try to solve real world problems more effecientlyand effectively </i>",
      "metadata": {}
    },
    {
      "cell_type": "markdown",
      "source": "<h3> So in the below code firstly i defined the function and formulate the function and given the inputs in order to get the desired output </h3>",
      "metadata": {}
    },
    {
      "cell_type": "code",
      "source": "def average (numbers):\n    return sum(numbers)/len (numbers)\nnumbers =[5,7,4,8,9,4,5]\naverage1 = average(numbers)\nprint(\"Average is\",average1)",
      "metadata": {
        "trusted": true
      },
      "execution_count": 1,
      "outputs": [
        {
          "name": "stdout",
          "text": "Average is 6.0\n",
          "output_type": "stream"
        }
      ]
    },
    {
      "cell_type": "markdown",
      "source": "Sr no. | Name \n--- | ---\n5 | Husain\n7 | ABC\n https://jupyter.org/try-jupyter/lab/\n\n<li> Husain </li>\n<li> Xyz </li>\n",
      "metadata": {}
    },
    {
      "cell_type": "code",
      "source": "",
      "metadata": {},
      "execution_count": null,
      "outputs": []
    }
  ]
}